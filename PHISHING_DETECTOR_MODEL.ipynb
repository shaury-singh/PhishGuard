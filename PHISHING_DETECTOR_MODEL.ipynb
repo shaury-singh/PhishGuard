{
  "cells": [
    {
      "cell_type": "code",
      "execution_count": 1,
      "metadata": {
        "id": "QFXZ-980c3sr"
      },
      "outputs": [],
      "source": [
        "import pandas as pd\n",
        "import numpy as np\n",
        "\n",
        "data = pd.read_csv('dataset_phishing.csv')"
      ]
    },
    {
      "cell_type": "markdown",
      "metadata": {
        "id": "OtzmBy9cgbn4"
      },
      "source": [
        "shape"
      ]
    },
    {
      "cell_type": "code",
      "execution_count": 2,
      "metadata": {
        "colab": {
          "base_uri": "https://localhost:8080/"
        },
        "id": "SWGAy0IzgbHm",
        "outputId": "459051be-2940-4487-a147-26df469bf537"
      },
      "outputs": [
        {
          "data": {
            "text/plain": [
              "(11430, 89)"
            ]
          },
          "execution_count": 2,
          "metadata": {},
          "output_type": "execute_result"
        }
      ],
      "source": [
        "data.shape"
      ]
    },
    {
      "cell_type": "code",
      "execution_count": 3,
      "metadata": {
        "colab": {
          "base_uri": "https://localhost:8080/"
        },
        "collapsed": true,
        "id": "9QCP2MIJgfU2",
        "outputId": "40f3e1aa-2735-4c89-fd9a-8cb47ad1d815"
      },
      "outputs": [
        {
          "data": {
            "text/plain": [
              "Index(['url', 'length_url', 'length_hostname', 'ip', 'nb_dots', 'nb_hyphens',\n",
              "       'nb_at', 'nb_qm', 'nb_and', 'nb_or', 'nb_eq', 'nb_underscore',\n",
              "       'nb_tilde', 'nb_percent', 'nb_slash', 'nb_star', 'nb_colon', 'nb_comma',\n",
              "       'nb_semicolumn', 'nb_dollar', 'nb_space', 'nb_www', 'nb_com',\n",
              "       'nb_dslash', 'http_in_path', 'https_token', 'ratio_digits_url',\n",
              "       'ratio_digits_host', 'punycode', 'port', 'tld_in_path',\n",
              "       'tld_in_subdomain', 'abnormal_subdomain', 'nb_subdomains',\n",
              "       'prefix_suffix', 'random_domain', 'shortening_service',\n",
              "       'path_extension', 'nb_redirection', 'nb_external_redirection',\n",
              "       'length_words_raw', 'char_repeat', 'shortest_words_raw',\n",
              "       'shortest_word_host', 'shortest_word_path', 'longest_words_raw',\n",
              "       'longest_word_host', 'longest_word_path', 'avg_words_raw',\n",
              "       'avg_word_host', 'avg_word_path', 'phish_hints', 'domain_in_brand',\n",
              "       'brand_in_subdomain', 'brand_in_path', 'suspecious_tld',\n",
              "       'statistical_report', 'nb_hyperlinks', 'ratio_intHyperlinks',\n",
              "       'ratio_extHyperlinks', 'ratio_nullHyperlinks', 'nb_extCSS',\n",
              "       'ratio_intRedirection', 'ratio_extRedirection', 'ratio_intErrors',\n",
              "       'ratio_extErrors', 'login_form', 'external_favicon', 'links_in_tags',\n",
              "       'submit_email', 'ratio_intMedia', 'ratio_extMedia', 'sfh', 'iframe',\n",
              "       'popup_window', 'safe_anchor', 'onmouseover', 'right_clic',\n",
              "       'empty_title', 'domain_in_title', 'domain_with_copyright',\n",
              "       'whois_registered_domain', 'domain_registration_length', 'domain_age',\n",
              "       'web_traffic', 'dns_record', 'google_index', 'page_rank', 'status'],\n",
              "      dtype='object')"
            ]
          },
          "execution_count": 3,
          "metadata": {},
          "output_type": "execute_result"
        }
      ],
      "source": [
        "data.columns"
      ]
    },
    {
      "cell_type": "code",
      "execution_count": 4,
      "metadata": {
        "colab": {
          "base_uri": "https://localhost:8080/",
          "height": 290
        },
        "id": "jGdDoefzjTsF",
        "outputId": "4c867981-eae5-4626-bccc-4c3da3c25c6b"
      },
      "outputs": [
        {
          "data": {
            "text/html": [
              "<div>\n",
              "<style scoped>\n",
              "    .dataframe tbody tr th:only-of-type {\n",
              "        vertical-align: middle;\n",
              "    }\n",
              "\n",
              "    .dataframe tbody tr th {\n",
              "        vertical-align: top;\n",
              "    }\n",
              "\n",
              "    .dataframe thead th {\n",
              "        text-align: right;\n",
              "    }\n",
              "</style>\n",
              "<table border=\"1\" class=\"dataframe\">\n",
              "  <thead>\n",
              "    <tr style=\"text-align: right;\">\n",
              "      <th></th>\n",
              "      <th>url</th>\n",
              "      <th>length_url</th>\n",
              "      <th>length_hostname</th>\n",
              "      <th>ip</th>\n",
              "      <th>nb_dots</th>\n",
              "      <th>nb_hyphens</th>\n",
              "      <th>nb_at</th>\n",
              "      <th>nb_qm</th>\n",
              "      <th>nb_and</th>\n",
              "      <th>nb_or</th>\n",
              "      <th>...</th>\n",
              "      <th>domain_in_title</th>\n",
              "      <th>domain_with_copyright</th>\n",
              "      <th>whois_registered_domain</th>\n",
              "      <th>domain_registration_length</th>\n",
              "      <th>domain_age</th>\n",
              "      <th>web_traffic</th>\n",
              "      <th>dns_record</th>\n",
              "      <th>google_index</th>\n",
              "      <th>page_rank</th>\n",
              "      <th>status</th>\n",
              "    </tr>\n",
              "  </thead>\n",
              "  <tbody>\n",
              "    <tr>\n",
              "      <th>0</th>\n",
              "      <td>http://www.crestonwood.com/router.php</td>\n",
              "      <td>37</td>\n",
              "      <td>19</td>\n",
              "      <td>0</td>\n",
              "      <td>3</td>\n",
              "      <td>0</td>\n",
              "      <td>0</td>\n",
              "      <td>0</td>\n",
              "      <td>0</td>\n",
              "      <td>0</td>\n",
              "      <td>...</td>\n",
              "      <td>0</td>\n",
              "      <td>1</td>\n",
              "      <td>0</td>\n",
              "      <td>45</td>\n",
              "      <td>-1</td>\n",
              "      <td>0</td>\n",
              "      <td>1</td>\n",
              "      <td>1</td>\n",
              "      <td>4</td>\n",
              "      <td>legitimate</td>\n",
              "    </tr>\n",
              "    <tr>\n",
              "      <th>1</th>\n",
              "      <td>http://shadetreetechnology.com/V4/validation/a...</td>\n",
              "      <td>77</td>\n",
              "      <td>23</td>\n",
              "      <td>1</td>\n",
              "      <td>1</td>\n",
              "      <td>0</td>\n",
              "      <td>0</td>\n",
              "      <td>0</td>\n",
              "      <td>0</td>\n",
              "      <td>0</td>\n",
              "      <td>...</td>\n",
              "      <td>1</td>\n",
              "      <td>0</td>\n",
              "      <td>0</td>\n",
              "      <td>77</td>\n",
              "      <td>5767</td>\n",
              "      <td>0</td>\n",
              "      <td>0</td>\n",
              "      <td>1</td>\n",
              "      <td>2</td>\n",
              "      <td>phishing</td>\n",
              "    </tr>\n",
              "    <tr>\n",
              "      <th>2</th>\n",
              "      <td>https://support-appleld.com.secureupdate.duila...</td>\n",
              "      <td>126</td>\n",
              "      <td>50</td>\n",
              "      <td>1</td>\n",
              "      <td>4</td>\n",
              "      <td>1</td>\n",
              "      <td>0</td>\n",
              "      <td>1</td>\n",
              "      <td>2</td>\n",
              "      <td>0</td>\n",
              "      <td>...</td>\n",
              "      <td>1</td>\n",
              "      <td>0</td>\n",
              "      <td>0</td>\n",
              "      <td>14</td>\n",
              "      <td>4004</td>\n",
              "      <td>5828815</td>\n",
              "      <td>0</td>\n",
              "      <td>1</td>\n",
              "      <td>0</td>\n",
              "      <td>phishing</td>\n",
              "    </tr>\n",
              "    <tr>\n",
              "      <th>3</th>\n",
              "      <td>http://rgipt.ac.in</td>\n",
              "      <td>18</td>\n",
              "      <td>11</td>\n",
              "      <td>0</td>\n",
              "      <td>2</td>\n",
              "      <td>0</td>\n",
              "      <td>0</td>\n",
              "      <td>0</td>\n",
              "      <td>0</td>\n",
              "      <td>0</td>\n",
              "      <td>...</td>\n",
              "      <td>1</td>\n",
              "      <td>0</td>\n",
              "      <td>0</td>\n",
              "      <td>62</td>\n",
              "      <td>-1</td>\n",
              "      <td>107721</td>\n",
              "      <td>0</td>\n",
              "      <td>0</td>\n",
              "      <td>3</td>\n",
              "      <td>legitimate</td>\n",
              "    </tr>\n",
              "    <tr>\n",
              "      <th>4</th>\n",
              "      <td>http://www.iracing.com/tracks/gateway-motorspo...</td>\n",
              "      <td>55</td>\n",
              "      <td>15</td>\n",
              "      <td>0</td>\n",
              "      <td>2</td>\n",
              "      <td>2</td>\n",
              "      <td>0</td>\n",
              "      <td>0</td>\n",
              "      <td>0</td>\n",
              "      <td>0</td>\n",
              "      <td>...</td>\n",
              "      <td>0</td>\n",
              "      <td>1</td>\n",
              "      <td>0</td>\n",
              "      <td>224</td>\n",
              "      <td>8175</td>\n",
              "      <td>8725</td>\n",
              "      <td>0</td>\n",
              "      <td>0</td>\n",
              "      <td>6</td>\n",
              "      <td>legitimate</td>\n",
              "    </tr>\n",
              "  </tbody>\n",
              "</table>\n",
              "<p>5 rows × 89 columns</p>\n",
              "</div>"
            ],
            "text/plain": [
              "                                                 url  length_url  \\\n",
              "0              http://www.crestonwood.com/router.php          37   \n",
              "1  http://shadetreetechnology.com/V4/validation/a...          77   \n",
              "2  https://support-appleld.com.secureupdate.duila...         126   \n",
              "3                                 http://rgipt.ac.in          18   \n",
              "4  http://www.iracing.com/tracks/gateway-motorspo...          55   \n",
              "\n",
              "   length_hostname  ip  nb_dots  nb_hyphens  nb_at  nb_qm  nb_and  nb_or  ...  \\\n",
              "0               19   0        3           0      0      0       0      0  ...   \n",
              "1               23   1        1           0      0      0       0      0  ...   \n",
              "2               50   1        4           1      0      1       2      0  ...   \n",
              "3               11   0        2           0      0      0       0      0  ...   \n",
              "4               15   0        2           2      0      0       0      0  ...   \n",
              "\n",
              "   domain_in_title  domain_with_copyright  whois_registered_domain  \\\n",
              "0                0                      1                        0   \n",
              "1                1                      0                        0   \n",
              "2                1                      0                        0   \n",
              "3                1                      0                        0   \n",
              "4                0                      1                        0   \n",
              "\n",
              "   domain_registration_length  domain_age  web_traffic  dns_record  \\\n",
              "0                          45          -1            0           1   \n",
              "1                          77        5767            0           0   \n",
              "2                          14        4004      5828815           0   \n",
              "3                          62          -1       107721           0   \n",
              "4                         224        8175         8725           0   \n",
              "\n",
              "   google_index  page_rank      status  \n",
              "0             1          4  legitimate  \n",
              "1             1          2    phishing  \n",
              "2             1          0    phishing  \n",
              "3             0          3  legitimate  \n",
              "4             0          6  legitimate  \n",
              "\n",
              "[5 rows x 89 columns]"
            ]
          },
          "execution_count": 4,
          "metadata": {},
          "output_type": "execute_result"
        }
      ],
      "source": [
        "data.head()"
      ]
    },
    {
      "cell_type": "markdown",
      "metadata": {
        "id": "PgTlanh2kHRs"
      },
      "source": [
        "HANDLING MISSING VALUES"
      ]
    },
    {
      "cell_type": "code",
      "execution_count": 5,
      "metadata": {
        "id": "D8bXKmlnjb8e"
      },
      "outputs": [],
      "source": [
        "# Select numeric columns only\n",
        "numeric_columns = data.select_dtypes(include=['float64', 'int64']).columns\n",
        "\n",
        "# Fill missing values in numeric columns with the median\n",
        "data[numeric_columns] = data[numeric_columns].fillna(data[numeric_columns].median())\n"
      ]
    },
    {
      "cell_type": "code",
      "execution_count": 6,
      "metadata": {
        "colab": {
          "base_uri": "https://localhost:8080/"
        },
        "id": "woOqBwTTkBk4",
        "outputId": "2fcdb0dd-fba1-48e0-9c6f-8ea4fce9cc35"
      },
      "outputs": [
        {
          "name": "stderr",
          "output_type": "stream",
          "text": [
            "C:\\Users\\shaur\\AppData\\Local\\Temp\\ipykernel_14368\\4172862055.py:5: FutureWarning: A value is trying to be set on a copy of a DataFrame or Series through chained assignment using an inplace method.\n",
            "The behavior will change in pandas 3.0. This inplace method will never work because the intermediate object on which we are setting values always behaves as a copy.\n",
            "\n",
            "For example, when doing 'df[col].method(value, inplace=True)', try using 'df.method({col: value}, inplace=True)' or df[col] = df[col].method(value) instead, to perform the operation inplace on the original object.\n",
            "\n",
            "\n",
            "  data[col].fillna('Unknown', inplace=True)  # Or use data[col].mode()[0] if you want to fill with the most frequent value\n"
          ]
        }
      ],
      "source": [
        "# Fill missing values in categorical columns with a placeholder or mode\n",
        "categorical_columns = data.select_dtypes(include=['object']).columns\n",
        "\n",
        "for col in categorical_columns:\n",
        "    data[col].fillna('Unknown', inplace=True)  # Or use data[col].mode()[0] if you want to fill with the most frequent value\n"
      ]
    },
    {
      "cell_type": "code",
      "execution_count": 7,
      "metadata": {
        "colab": {
          "base_uri": "https://localhost:8080/"
        },
        "id": "mHXkrlGIkEit",
        "outputId": "cedfc78d-d917-4e07-e271-e8e88bc2bbef"
      },
      "outputs": [
        {
          "name": "stdout",
          "output_type": "stream",
          "text": [
            "url                0\n",
            "length_url         0\n",
            "length_hostname    0\n",
            "ip                 0\n",
            "nb_dots            0\n",
            "                  ..\n",
            "web_traffic        0\n",
            "dns_record         0\n",
            "google_index       0\n",
            "page_rank          0\n",
            "status             0\n",
            "Length: 89, dtype: int64\n"
          ]
        }
      ],
      "source": [
        "# Verify if there are any missing values\n",
        "print(data.isnull().sum())\n"
      ]
    },
    {
      "cell_type": "markdown",
      "metadata": {
        "id": "-rPE4PPWkRJd"
      },
      "source": [
        "Convert Categorical Features\n",
        "\n",
        "\n",
        "If you have any categorical features, use encoding techniques like label encoding or one-hot encoding"
      ]
    },
    {
      "cell_type": "code",
      "execution_count": 9,
      "metadata": {
        "id": "Gn-Y40kLkSHc"
      },
      "outputs": [],
      "source": [
        "from sklearn.preprocessing import LabelEncoder\n",
        "\n",
        "# Assuming 'https_token' and other categorical columns are in the dataset\n",
        "label_encoder = LabelEncoder()\n",
        "data['https_token'] = label_encoder.fit_transform(data['https_token'])\n",
        "\n",
        "# If you have other categorical columns, apply similar transformations\n"
      ]
    },
    {
      "cell_type": "code",
      "execution_count": 12,
      "metadata": {
        "id": "Hx-MH7wskq20"
      },
      "outputs": [],
      "source": [
        "from sklearn.preprocessing import StandardScaler\n",
        "# List of numerical columns that need scaling\n",
        "numerical_features = [\n",
        "    'length_url', 'length_hostname', 'nb_dots', 'nb_hyphens', 'nb_at', 'nb_qm',\n",
        "    'nb_and', 'nb_or', 'nb_eq', 'nb_underscore', 'nb_tilde', 'nb_percent', 'nb_slash',\n",
        "    'nb_star', 'nb_colon', 'nb_comma', 'nb_semicolumn', 'nb_dollar', 'nb_space', 'nb_www',\n",
        "    'nb_com', 'nb_dslash', 'http_in_path', 'https_token', 'ratio_digits_url', 'ratio_digits_host',\n",
        "    'punycode', 'port', 'tld_in_path', 'tld_in_subdomain', 'abnormal_subdomain', 'nb_subdomains',\n",
        "    'prefix_suffix', 'random_domain', 'shortening_service', 'path_extension', 'nb_redirection',\n",
        "    'nb_external_redirection', 'length_words_raw', 'char_repeat', 'shortest_words_raw',\n",
        "    'shortest_word_host', 'shortest_word_path', 'longest_words_raw', 'longest_word_host',\n",
        "    'longest_word_path', 'avg_words_raw', 'avg_word_host', 'avg_word_path', 'phish_hints',\n",
        "    'domain_in_brand', 'brand_in_subdomain', 'brand_in_path', 'suspecious_tld', 'statistical_report',\n",
        "    'nb_hyperlinks', 'ratio_intHyperlinks', 'ratio_extHyperlinks', 'ratio_nullHyperlinks',\n",
        "    'nb_extCSS', 'ratio_intRedirection', 'ratio_extRedirection', 'ratio_intErrors', 'ratio_extErrors',\n",
        "    'login_form', 'external_favicon', 'links_in_tags', 'submit_email', 'ratio_intMedia', 'ratio_extMedia',\n",
        "    'sfh', 'iframe', 'popup_window', 'safe_anchor', 'onmouseover', 'right_clic', 'empty_title',\n",
        "    'domain_in_title', 'domain_with_copyright', 'whois_registered_domain', 'domain_registration_length',\n",
        "    'domain_age', 'web_traffic', 'dns_record', 'google_index', 'page_rank'\n",
        "]\n",
        "\n",
        "# Scale the numerical columns\n",
        "scaler = StandardScaler()\n",
        "data[numerical_features] = scaler.fit_transform(data[numerical_features])\n"
      ]
    },
    {
      "cell_type": "code",
      "execution_count": 13,
      "metadata": {
        "id": "DjQ5Tpktk_8-"
      },
      "outputs": [],
      "source": [
        "# Automatically select numerical columns\n",
        "numerical_features = data.select_dtypes(include=['int64', 'float64']).columns\n",
        "\n",
        "# Scale the numerical columns\n",
        "scaler = StandardScaler()\n",
        "data[numerical_features] = scaler.fit_transform(data[numerical_features])\n"
      ]
    },
    {
      "cell_type": "markdown",
      "metadata": {
        "id": "AHcf_kUOlStn"
      },
      "source": [
        "Step 4: Define Features and Target Variable\n",
        "\n",
        "\n",
        "The target variable is likely the column status, which indicates whether the URL is phishing (1) or safe (0)."
      ]
    },
    {
      "cell_type": "code",
      "execution_count": 14,
      "metadata": {
        "id": "PkL_kONflTgU"
      },
      "outputs": [],
      "source": [
        "# Define features and target\n",
        "X = data.drop(['status', 'url'], axis=1)  # Features (remove 'url' column as it's not needed)\n",
        "y = data['status']  # Target variable\n"
      ]
    },
    {
      "cell_type": "markdown",
      "metadata": {
        "id": "iudZr_fhlb9S"
      },
      "source": [
        "Step 5: Split the Data into Training and Testing Sets"
      ]
    },
    {
      "cell_type": "code",
      "execution_count": 15,
      "metadata": {
        "id": "HcCA0-CYldBi"
      },
      "outputs": [],
      "source": [
        "from sklearn.model_selection import train_test_split\n",
        "\n",
        "# Split the data into training and testing sets (80-20 split)\n",
        "X_train, X_test, y_train, y_test = train_test_split(X, y, test_size=0.2, random_state=42)\n"
      ]
    },
    {
      "cell_type": "markdown",
      "metadata": {
        "id": "QACD1ZLXliIx"
      },
      "source": [
        "Step 6: Build and Train the Model"
      ]
    },
    {
      "cell_type": "code",
      "execution_count": 16,
      "metadata": {
        "colab": {
          "base_uri": "https://localhost:8080/"
        },
        "id": "_-q72GlblrXM",
        "outputId": "17bce10f-ae18-44cb-8887-97f4359b2b3e"
      },
      "outputs": [
        {
          "name": "stdout",
          "output_type": "stream",
          "text": [
            "Random Forest Classification Report:\n",
            "              precision    recall  f1-score   support\n",
            "\n",
            "  legitimate       0.96      0.98      0.97      1157\n",
            "    phishing       0.97      0.96      0.97      1129\n",
            "\n",
            "    accuracy                           0.97      2286\n",
            "   macro avg       0.97      0.97      0.97      2286\n",
            "weighted avg       0.97      0.97      0.97      2286\n",
            "\n",
            "Confusion Matrix:\n",
            "[[1129   28]\n",
            " [  42 1087]]\n"
          ]
        }
      ],
      "source": [
        "from sklearn.ensemble import RandomForestClassifier\n",
        "from sklearn.metrics import classification_report, confusion_matrix\n",
        "\n",
        "# Initialize Random Forest Classifier\n",
        "rf_model = RandomForestClassifier(random_state=42)\n",
        "\n",
        "# Train the model\n",
        "rf_model.fit(X_train, y_train)\n",
        "\n",
        "# Predict on the test set\n",
        "y_pred_rf = rf_model.predict(X_test)\n",
        "\n",
        "# Evaluate the model\n",
        "print(\"Random Forest Classification Report:\")\n",
        "print(classification_report(y_test, y_pred_rf))\n",
        "print(\"Confusion Matrix:\")\n",
        "print(confusion_matrix(y_test, y_pred_rf))\n"
      ]
    },
    {
      "cell_type": "markdown",
      "metadata": {
        "id": "49UcEaBXmrJO"
      },
      "source": [
        "Step 7: Hyperparameter Tuning (Optional)\n",
        "\n",
        "You can tune hyperparameters using GridSearchCV to improve model performance"
      ]
    },
    {
      "cell_type": "code",
      "execution_count": 17,
      "metadata": {
        "colab": {
          "base_uri": "https://localhost:8080/"
        },
        "id": "OxZcXj6TmJJt",
        "outputId": "3ff0561f-ae17-4105-9357-5d3cf1c2013d"
      },
      "outputs": [
        {
          "name": "stdout",
          "output_type": "stream",
          "text": [
            "Fitting 3 folds for each of 10 candidates, totalling 30 fits\n",
            "Best parameters: {'max_depth': 19, 'min_samples_split': 4, 'n_estimators': 239}\n"
          ]
        }
      ],
      "source": [
        "from sklearn.model_selection import RandomizedSearchCV\n",
        "from scipy.stats import randint\n",
        "\n",
        "param_dist_rf = {\n",
        "    'n_estimators': randint(50, 300),\n",
        "    'max_depth': randint(10, 30),\n",
        "    'min_samples_split': randint(2, 10)\n",
        "}\n",
        "\n",
        "randomized_search_rf = RandomizedSearchCV(estimator=rf_model, param_distributions=param_dist_rf, n_iter=10, cv=3, n_jobs=-1, verbose=2)\n",
        "randomized_search_rf.fit(X_train, y_train)\n",
        "\n",
        "# Best parameters and model\n",
        "print(f\"Best parameters: {randomized_search_rf.best_params_}\")\n",
        "best_rf_model = randomized_search_rf.best_estimator_\n"
      ]
    },
    {
      "cell_type": "markdown",
      "metadata": {
        "id": "7hd6KLuLn0eK"
      },
      "source": [
        "Step 8: Model Evaluation\n",
        "\n",
        "Once the model is trained and tuned, evaluate its performance using appropriate metrics. You can use accuracy, precision, recall, F1-score, and AUC-ROC."
      ]
    },
    {
      "cell_type": "code",
      "execution_count": 18,
      "metadata": {
        "colab": {
          "base_uri": "https://localhost:8080/",
          "height": 489
        },
        "id": "O0Vqm-rfnzlF",
        "outputId": "05824263-284e-40db-fcc7-4e77d9e56211"
      },
      "outputs": [
        {
          "ename": "ModuleNotFoundError",
          "evalue": "No module named 'matplotlib'",
          "output_type": "error",
          "traceback": [
            "\u001b[1;31m---------------------------------------------------------------------------\u001b[0m",
            "\u001b[1;31mModuleNotFoundError\u001b[0m                       Traceback (most recent call last)",
            "Cell \u001b[1;32mIn[18], line 3\u001b[0m\n\u001b[0;32m      1\u001b[0m \u001b[38;5;28;01mfrom\u001b[39;00m\u001b[38;5;250m \u001b[39m\u001b[38;5;21;01msklearn\u001b[39;00m\u001b[38;5;21;01m.\u001b[39;00m\u001b[38;5;21;01mmetrics\u001b[39;00m\u001b[38;5;250m \u001b[39m\u001b[38;5;28;01mimport\u001b[39;00m roc_auc_score, roc_curve\n\u001b[0;32m      2\u001b[0m \u001b[38;5;28;01mfrom\u001b[39;00m\u001b[38;5;250m \u001b[39m\u001b[38;5;21;01msklearn\u001b[39;00m\u001b[38;5;21;01m.\u001b[39;00m\u001b[38;5;21;01mpreprocessing\u001b[39;00m\u001b[38;5;250m \u001b[39m\u001b[38;5;28;01mimport\u001b[39;00m LabelEncoder\n\u001b[1;32m----> 3\u001b[0m \u001b[38;5;28;01mimport\u001b[39;00m\u001b[38;5;250m \u001b[39m\u001b[38;5;21;01mmatplotlib\u001b[39;00m\u001b[38;5;21;01m.\u001b[39;00m\u001b[38;5;21;01mpyplot\u001b[39;00m\u001b[38;5;250m \u001b[39m\u001b[38;5;28;01mas\u001b[39;00m\u001b[38;5;250m \u001b[39m\u001b[38;5;21;01mplt\u001b[39;00m\n\u001b[0;32m      5\u001b[0m \u001b[38;5;66;03m# Encode labels as numeric values (0 and 1)\u001b[39;00m\n\u001b[0;32m      6\u001b[0m label_encoder \u001b[38;5;241m=\u001b[39m LabelEncoder()\n",
            "\u001b[1;31mModuleNotFoundError\u001b[0m: No module named 'matplotlib'"
          ]
        }
      ],
      "source": [
        "from sklearn.metrics import roc_auc_score, roc_curve\n",
        "from sklearn.preprocessing import LabelEncoder\n",
        "import matplotlib.pyplot as plt\n",
        "\n",
        "# Encode labels as numeric values (0 and 1)\n",
        "label_encoder = LabelEncoder()\n",
        "y_test_encoded = label_encoder.fit_transform(y_test)\n",
        "\n",
        "# Get probabilities (class 1 is the 'phishing' class)\n",
        "y_pred_prob_rf = best_rf_model.predict_proba(X_test)[:, 1]\n",
        "\n",
        "# ROC-AUC score\n",
        "roc_auc = roc_auc_score(y_test_encoded, y_pred_prob_rf)\n",
        "print(f\"Random Forest ROC-AUC: {roc_auc}\")\n",
        "\n",
        "# ROC curve\n",
        "fpr, tpr, thresholds = roc_curve(y_test_encoded, y_pred_prob_rf)\n",
        "plt.plot(fpr, tpr, label='Random Forest')\n",
        "plt.plot([0, 1], [0, 1], linestyle='--')\n",
        "plt.xlabel('False Positive Rate')\n",
        "plt.ylabel('True Positive Rate')\n",
        "plt.title('ROC Curve')\n",
        "plt.show()\n"
      ]
    },
    {
      "cell_type": "markdown",
      "metadata": {
        "id": "YcOo7SrLo1oA"
      },
      "source": [
        "Step 9: Save the Model\n",
        "\n",
        "Once the model is trained, save it for later use in the browser extension."
      ]
    },
    {
      "cell_type": "code",
      "execution_count": 19,
      "metadata": {
        "colab": {
          "base_uri": "https://localhost:8080/"
        },
        "id": "Uf1-s65SoeNC",
        "outputId": "8d0e6f4b-65ad-4cfa-9e0e-e25e49269ff9"
      },
      "outputs": [
        {
          "data": {
            "text/plain": [
              "['phishing_detector_model.pkl']"
            ]
          },
          "execution_count": 19,
          "metadata": {},
          "output_type": "execute_result"
        }
      ],
      "source": [
        "import joblib\n",
        "\n",
        "# Save the model to disk\n",
        "joblib.dump(best_rf_model, 'phishing_detector_model.pkl')\n"
      ]
    },
    {
      "cell_type": "markdown",
      "metadata": {
        "id": "55lfVw7bo8r1"
      },
      "source": [
        "Step 10: Create a Flask API for Model Inference (for Browser Extension)"
      ]
    },
    {
      "cell_type": "code",
      "execution_count": 27,
      "metadata": {
        "colab": {
          "base_uri": "https://localhost:8080/"
        },
        "id": "6SmFjlbgojsk",
        "outputId": "65920c71-9ef0-4c7e-8c75-79d7c4a7ccf5"
      },
      "outputs": [
        {
          "name": "stdout",
          "output_type": "stream",
          "text": [
            "Model loaded successfully!\n",
            " * Serving Flask app '__main__'\n",
            " * Debug mode: on\n"
          ]
        },
        {
          "name": "stderr",
          "output_type": "stream",
          "text": [
            "WARNING: This is a development server. Do not use it in a production deployment. Use a production WSGI server instead.\n",
            " * Running on http://127.0.0.1:5001\n",
            "Press CTRL+C to quit\n",
            " * Restarting with stat\n"
          ]
        },
        {
          "ename": "SystemExit",
          "evalue": "1",
          "output_type": "error",
          "traceback": [
            "An exception has occurred, use %tb to see the full traceback.\n",
            "\u001b[1;31mSystemExit\u001b[0m\u001b[1;31m:\u001b[0m 1\n"
          ]
        }
      ],
      "source": [
        "from flask import Flask, request, jsonify\n",
        "import joblib\n",
        "\n",
        "# Load the model\n",
        "model = joblib.load('phishing_detector_model.pkl')\n",
        "print(\"Model loaded successfully!\")\n",
        "\n",
        "# Initialize Flask app\n",
        "app = Flask(__name__)\n",
        "\n",
        "@app.route('/predict', methods=['POST'])\n",
        "def predict():\n",
        "    # data = request.get_json()\n",
        "    data = {\"www.g00gle.com\"}\n",
        "    # Assuming the data contains the same features as the dataset\n",
        "    features = [data['length_url'], data['length_hostname'], data['nb_dots'], ...]  # Fill with the correct features\n",
        "    prediction = model.predict([features])\n",
        "    return jsonify({'prediction': int(prediction[0])})\n",
        "\n",
        "if __name__ == '__main__':\n",
        "    app.run(debug=True,port=5001)\n"
      ]
    },
    {
      "cell_type": "code",
      "execution_count": null,
      "metadata": {},
      "outputs": [],
      "source": []
    },
    {
      "cell_type": "code",
      "execution_count": null,
      "metadata": {},
      "outputs": [],
      "source": []
    },
    {
      "cell_type": "code",
      "execution_count": null,
      "metadata": {},
      "outputs": [],
      "source": []
    }
  ],
  "metadata": {
    "colab": {
      "provenance": []
    },
    "kernelspec": {
      "display_name": "Python 3",
      "name": "python3"
    },
    "language_info": {
      "codemirror_mode": {
        "name": "ipython",
        "version": 3
      },
      "file_extension": ".py",
      "mimetype": "text/x-python",
      "name": "python",
      "nbconvert_exporter": "python",
      "pygments_lexer": "ipython3",
      "version": "3.13.2"
    }
  },
  "nbformat": 4,
  "nbformat_minor": 0
}
