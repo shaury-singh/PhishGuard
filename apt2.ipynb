{
 "cells": [
  {
   "cell_type": "code",
   "execution_count": null,
   "metadata": {},
   "outputs": [],
   "source": [
    "# USINGIP\n",
    "import re\n",
    "from urllib.parse import urlparse\n",
    "\n",
    "def extract_features_from_url(url):\n",
    "    features = {}\n",
    "    parsed_url = urlparse(url)\n",
    "    domain = parsed_url.netloc\n",
    "    ipv4_pattern = re.compile(r'^(?:[0-9]{1,3}\\.){3}[0-9]{1,3}$')\n",
    "    ipv6_pattern = re.compile(r'^(?:[0-9a-fA-F:]+)$')\n",
    "    features[\"contains_IP\"] = bool(ipv4_pattern.match(domain) or ipv6_pattern.match(domain))\n",
    "    features[\"url_length\"] = len(url)\n",
    "    features[\"num_dots\"] = url.count('.')\n",
    "    special_chars = ['@', '-', '_', '?', '=', '&']\n",
    "    features[\"num_special_chars\"] = sum(url.count(char) for char in special_chars)\n",
    "    features[\"protocol\"] = parsed_url.scheme\n",
    "    features[\"num_slashes\"] = url.count('/')\n",
    "    return features\n",
    "\n",
    "print(extract_features_from_url(\"https://www.slant.co/topics/2404/~file-managers-for-windows\"))"
   ]
  },
  {
   "cell_type": "code",
   "execution_count": 1,
   "metadata": {},
   "outputs": [
    {
     "name": "stdout",
     "output_type": "stream",
     "text": [
      "0\n"
     ]
    }
   ],
   "source": [
    "# StatusBarCust\n",
    "from urllib.parse import urlparse, urljoin\n",
    "from bs4 import BeautifulSoup\n",
    "import requests\n",
    "\n",
    "def StatusBarCust(url):\n",
    "    try:\n",
    "        response = requests.get(url, timeout=5)\n",
    "        soup = BeautifulSoup(response.text, \"html.parser\")\n",
    "        scripts = soup.find_all(\"script\")\n",
    "        for script in scripts:\n",
    "            if \"window.status\" in script.text or \"status=\" in script.text:\n",
    "                return 1  \n",
    "            return 0  \n",
    "    except:\n",
    "            return -1  \n",
    "print(StatusBarCust(url = \"https://www.slant.co/topics/2404/~file-managers-for-windows\"))"
   ]
  }
 ],
 "metadata": {
  "kernelspec": {
   "display_name": "Python 3",
   "language": "python",
   "name": "python3"
  },
  "language_info": {
   "codemirror_mode": {
    "name": "ipython",
    "version": 3
   },
   "file_extension": ".py",
   "mimetype": "text/x-python",
   "name": "python",
   "nbconvert_exporter": "python",
   "pygments_lexer": "ipython3",
   "version": "3.13.2"
  }
 },
 "nbformat": 4,
 "nbformat_minor": 2
}
