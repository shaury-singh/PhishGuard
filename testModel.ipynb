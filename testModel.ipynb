{
 "cells": [
  {
   "cell_type": "code",
   "execution_count": 3,
   "metadata": {},
   "outputs": [
    {
     "name": "stdout",
     "output_type": "stream",
     "text": [
      "Phishing\n"
     ]
    },
    {
     "name": "stderr",
     "output_type": "stream",
     "text": [
      "c:\\Users\\shaur\\AppData\\Local\\Programs\\Python\\Python313\\Lib\\site-packages\\sklearn\\utils\\validation.py:2739: UserWarning: X does not have valid feature names, but RandomForestClassifier was fitted with feature names\n",
      "  warnings.warn(\n"
     ]
    }
   ],
   "source": [
    "import joblib\n",
    "import numpy as np\n",
    "\n",
    "rf_model = joblib.load('phishing_detector.pkl')\n",
    "\n",
    "# parameters = [33,26,0,2,0,0,0,0,0,0,0,0,0,2,0,1,0,0,0,0,0,0,0,0,1,0.03030303,0.038461538,0,0,0,0,0,2,0,0,1,0,1,0,2,0,8,8,0,13,13,0,10.5,10.5,0.0,0,1,0,0,0,0,10,0.1,0.9,0,0,0,0.7777777779999999,0,0.5555555560000001,0,1,0.0,0,0.0,0.0,0,0,0,33.33333333,0,0,0,1,0,0,374,7295,0,0,1,5]\n",
    "\n",
    "parameters = np.array(parameters).reshape(1, -1)\n",
    "\n",
    "y_pred = rf_model.predict(parameters)\n",
    "\n",
    "print(\"Phishing\" if y_pred[0] == 1 else \"Legitimate\")"
   ]
  }
 ],
 "metadata": {
  "kernelspec": {
   "display_name": "Python 3",
   "language": "python",
   "name": "python3"
  },
  "language_info": {
   "codemirror_mode": {
    "name": "ipython",
    "version": 3
   },
   "file_extension": ".py",
   "mimetype": "text/x-python",
   "name": "python",
   "nbconvert_exporter": "python",
   "pygments_lexer": "ipython3",
   "version": "3.13.2"
  }
 },
 "nbformat": 4,
 "nbformat_minor": 2
}
